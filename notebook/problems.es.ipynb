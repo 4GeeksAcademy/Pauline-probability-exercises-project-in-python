{
 "cells": [
  {
   "cell_type": "markdown",
   "id": "a41f3622",
   "metadata": {},
   "source": [
    "# Ejercicios de probabilidad"
   ]
  },
  {
   "cell_type": "code",
   "execution_count": 2,
   "id": "6533785e",
   "metadata": {},
   "outputs": [],
   "source": [
    "import numpy as np"
   ]
  },
  {
   "cell_type": "markdown",
   "id": "a6bdbd89",
   "metadata": {},
   "source": [
    "## Ejercicio 1 \n",
    "\n",
    "Dos dados se lanzan una vez y se observa el total obtenido. Usa una simulación para encontrar la probabilidad estimada de que la puntuación sea mayor a 7 o un número par. Una simulación es una repetición del mismo experimento multiples veces para observar su comportamiento:\n",
    "\n",
    "- Ejecuta el experimento 1000 veces (lanza 2 dados 1000 veces, y suma el número de ambos dados).\n",
    "- Lleva ua cuenta de los números y las veces que la suma fue mayor a 7 o un número par.\n",
    "- Divide el número del paso 2 entre el número de iteraciones(1000)."
   ]
  },
  {
   "cell_type": "code",
   "execution_count": null,
   "id": "8939d892",
   "metadata": {},
   "outputs": [
    {
     "name": "stdout",
     "output_type": "stream",
     "text": [
      "Probabilidad que la suma de la suma de los 2 dados sea par o mayor a 7:48.8 %\n",
      "488\n",
      "[ 8  5  7  9 11  6  9 11  3  4  5  3 10 10  5 10  9  9  9  8 11 11  4  2\n",
      "  3 11 11  6  4  7  2  6  2  5  6  5  5  6  4  4  9  7  6  3  2  4  9  8\n",
      "  3  5  9  5  3  3  8  3 11  4  2  6  5  3  3  7  3  7 11  8 10  2  3  3\n",
      "  7 10  3  4  5  3  2  4 10  3 10 11  6 11 10  5  8  6  9 11  7  4  2  5\n",
      " 11  4 11 11  7  4  6  9  9  9  2  6  7 10  3  8  7  9 11  6  9  2  6  5\n",
      "  8  8  4  6  8  5  9  7  2  6 11 11 10  8  3 11  9  5  9  4  4  5  8 11\n",
      "  9 10 10  7 11  3  6 10  7  9  8 10  8  8  8  3 10  6  9  8  6  9 11  4\n",
      "  6 11 10  5  3  7  3  5  4  9  3  3  5  9 11  5  2  9 10  4  6  8  2  5\n",
      "  6  8  5 11 10  2 11 11  2  6  4  8  5 10  8  4  6  2 10  5 10  3  4  3\n",
      "  5 10  8  8  5 10  4  4  9  9  3  9  5  6 11 10  3  4  7 11  8  5  3  8\n",
      "  4 10  4 11  9  8  7  6  8  5  9 10  4  7  2  4  8 11  5  3  7 10  6  7\n",
      "  5  7  8  6  7 11  4  9  4  3  4  5  9 11  6  3  5  4 11 11  5  5 11  8\n",
      "  5  2  4  3 10  4 11  9  9  3 11 11  2  6  5  2  9  7  9 10 11  4 10  9\n",
      "  3  3  7 10 11  6  9  4 11  2  8  7  2  9  6 11  3  3  9  6  9  5  4  2\n",
      " 11 11  8 11 11 10  3  4  5  6  4  7  4 10  6  5  5  5  2  3  5  9 10  2\n",
      "  6  3  3  6  2 11  2  9  2  3  3  6  6  8 11  9  2  6  5  6 11  8 11  2\n",
      "  6  5  3  8  8  3 10  5  6  6  9  2  9  8  2  4  5  4  7  5  4 10 11 11\n",
      "  6  8  8  6  7  8 10  3 11 10  4  3  2 11  3 11  2  5 10  5  5  3  3  7\n",
      " 11  4  8  9  5 10  2  7  4  6  3  9  8 11  3  6  3  4  3  7  4  4  6 10\n",
      "  8  3  5  4  7 10  4  6  5 11  4 10 11  8  3  2  8 11  3  7 10 10  5  7\n",
      "  7  3  4  9 11  7  6 10 10  3  3  5  5  3  8  4  3  2  8  5  8  8 11 11\n",
      " 11  9 10  6  8  8 11  2  3 10  8  3  9  4  7 11 11 10  5  5  3 10  2  2\n",
      "  8  8  9 10  9 10 10 11  5  6  9 11 10  8  2  4  9  6  2  8  2  7  4  7\n",
      "  3 10  7 10  4 11  3  7  4  3 10  7  3  7  8  3  2  5  6 10  2  5  4  2\n",
      "  6  6  3  4  6  6 10 11  2  2  2  8  9  7  2  7  2  9  9  8  2  5  4  9\n",
      "  5  3  5  4  5 11  9 11  9  7 10  7  8  7  2  6  7  2 10  7  9  5 11  5\n",
      " 11 11 11  7  3  7  7  7 11  9  4  4  5  8  4 11  3  6  5  2 10  9  7 10\n",
      "  6 11  3  6  7 11  2 11 10  4  2  8  8 10 11 10  6 11  7 11  8  3  2  9\n",
      "  7  5  4  4 11  6  5  9  7 11  3  2  7  6  9  2  2 10  2  5 11  9  3  7\n",
      "  3  2  6  6  6  6 10  7  9 10  8  2  2  9 11 11 10  8  6  2  6  2  4 10\n",
      "  3  4  7  8 10  8 11  2 11  8  8  7  5  3  7  9  2  8  6  6  3  3  2  9\n",
      "  5  4  8  5 11  8  6  6  6  2 10  8  9  3  3  5  9  5  2  2  7  2  5  6\n",
      "  4  7  2  4  4 11  3 11  4  2  4 10  3  9  4  6 10  9  4  5  3 11  3  3\n",
      "  2  5  8  9  3  3  8  9  9  4  8  3  8 11  6  7  3  2  5 11 10  9  9  5\n",
      " 10  4  4  3  8  6  5  6 11  4  4  3  4  4  2  2  3  9  3  6  2 10  3  9\n",
      "  4  3 10  4  2 11  5  5 11 11 11 11  2  4 11  2 11 11  6  3  4  6  2  6\n",
      "  4  5  4  3  8  5 11  7 11  3  6  9  6  9  9  3  3 10 11  8  4  2  7 10\n",
      "  9  2  7  7  9  9  9  7  3  8  5  3  8  8  9 10  8  3  3  7  4  3  7 11\n",
      "  4  8  8  7  6  4  9  5 10 11  6  9  4  3 11  8  2  2  6  4  3  2  4  4\n",
      "  3 11  6  9  2  5  7  4  6 10  9  6  7  7  2  7  9  6 11  3  7  4  2  7\n",
      "  4  5  8  7 10  8  7  6 11  7  4  5  6 11  9  9  4  4 10  3  4  5  7  8\n",
      "  5 10 11  6 10 11  8  4  9  7  5  7  6  8  9  7]\n"
     ]
    }
   ],
   "source": [
    "# TODO\n",
    "\n",
    "n_lanzamientos = 1000\n",
    "lanzamientos = np.random.randint(2, 12, size=n_lanzamientos)\n",
    "lanzamientos\n",
    "\n",
    "total_sim_7_o_par = np.sum(lanzamientos>=7 | (lanzamientos % 2 == 0))\n",
    "print(f'Probabilidad que la suma de la suma de los 2 dados sea par o mayor a 7: {round(total_sim_7_o_par /n_lanzamientos*100, 2)} %')\n",
    "\n",
    "print(total_sim_7_o_par % n_lanzamientos)\n",
    "\n",
    "print(lanzamientos)\n"
   ]
  },
  {
   "cell_type": "markdown",
   "id": "55732bca",
   "metadata": {},
   "source": [
    "## Ejercicio 2\n",
    "\n",
    "Una caja contiene 10 bolas blancas, 20 bolas rojas y 30 bolas verdes. Si tomamos 5 bolas de la caja reemplazándolas (tomando una bola, anotando el color y luego regresandola a la caja). Queremos saber la probabilidad de:\n",
    "\n",
    "1. Tomar 3 blancas y 2 rojas.\n",
    "2. Toas todas del mismo color.\n",
    "\n",
    "Ejecuta el experimento 1000 veces y calcula las probabilidades que mencionadas."
   ]
  },
  {
   "cell_type": "code",
   "execution_count": null,
   "id": "23244d20",
   "metadata": {},
   "outputs": [
    {
     "ename": "",
     "evalue": "",
     "output_type": "error",
     "traceback": [
      "\u001b[1;31mRunning cells with 'c:\\Program Files\\Python312\\python.exe' requires the ipykernel package.\n",
      "\u001b[1;31mRun the following command to install 'ipykernel' into the Python environment. \n",
      "\u001b[1;31mCommand: '\"c:/Program Files/Python312/python.exe\" -m pip install ipykernel -U --user --force-reinstall'"
     ]
    }
   ],
   "source": [
    "ball_box = {}\n",
    "\n",
    "# Crea la cajas con las bolas\n",
    "for i in range(60):\n",
    "    if i < 10:\n",
    "        ball_box[i] = \"White\"\n",
    "    elif (i > 9) and (i < 30):\n",
    "        ball_box[i] = \"Red\"\n",
    "    else:\n",
    "        ball_box[i] = \"Green\"\n",
    "\n",
    "print(ball_box)\n",
    "            \n",
    "# TODO"
   ]
  }
 ],
 "metadata": {
  "kernelspec": {
   "display_name": "Python 3",
   "language": "python",
   "name": "python3"
  },
  "language_info": {
   "codemirror_mode": {
    "name": "ipython",
    "version": 3
   },
   "file_extension": ".py",
   "mimetype": "text/x-python",
   "name": "python",
   "nbconvert_exporter": "python",
   "pygments_lexer": "ipython3",
   "version": "3.11.4"
  }
 },
 "nbformat": 4,
 "nbformat_minor": 5
}
