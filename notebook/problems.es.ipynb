{
 "cells": [
  {
   "cell_type": "markdown",
   "id": "a41f3622",
   "metadata": {},
   "source": [
    "# Ejercicios de probabilidad"
   ]
  },
  {
   "cell_type": "code",
   "execution_count": 23,
   "id": "6533785e",
   "metadata": {},
   "outputs": [],
   "source": [
    "import numpy as np"
   ]
  },
  {
   "cell_type": "markdown",
   "id": "a6bdbd89",
   "metadata": {},
   "source": [
    "## Ejercicio 1 \n",
    "\n",
    "Dos dados se lanzan una vez y se observa el total obtenido. Usa una simulación para encontrar la probabilidad estimada de que la puntuación sea mayor a 7 o un número par. Una simulación es una repetición del mismo experimento multiples veces para observar su comportamiento:\n",
    "\n",
    "- Ejecuta el experimento 1000 veces (lanza 2 dados 1000 veces, y suma el número de ambos dados).\n",
    "- Lleva ua cuenta de los números y las veces que la suma fue mayor a 7 o un número par.\n",
    "- Divide el número del paso 2 entre el número de iteraciones(1000)."
   ]
  },
  {
   "cell_type": "code",
   "execution_count": 24,
   "id": "8939d892",
   "metadata": {},
   "outputs": [
    {
     "name": "stdout",
     "output_type": "stream",
     "text": [
      "Probabilidad que la suma de la suma de los 2 dados sea par o mayor a 7: 47.4 %\n",
      "474\n",
      "[ 5  1  3  4 11  6  1  8  7 12  5  6  5 10 12  5 10 11  5  8 11  6 11  5\n",
      "  8 11  2 11 12  8  9  7 12  2  4  2  8  3  1  3  9  2  9  4  6  7  6 12\n",
      "  1  3  8  6  1  3 11  8  2  5  6  8  2  2 12 12 11  3 12  4  4 11 12 12\n",
      "  7  8  1  7  8  5  2  6 10  7  3  8  6  9 12 10 12  2  8  4 11  4  2  7\n",
      "  5  9  7  8  4 11  2  6 11  6  1  2  3 12  5  8  6 11  7  2  2  6  6  6\n",
      "  1  4 11  8  1  3  1 10 10  6  2 11  1  4  4  5  6 10  3  2  6  1 10  5\n",
      "  5  5  7 11 11 12 10  6  9  6  2  7  2 12  3  1  3  4  5  3  1  3  4 10\n",
      "  6  4  3  2  6  9  9  9  5  6  4  5  7 11  7 10  4 11  7  3  9  9  7  7\n",
      "  4  9 10  8 10  1  5  3  4  6  6  6 11  6  6  9  5  1  3  1  9  9  7  5\n",
      "  7  8  1  5  6 11  9  9 10  8  4  2 11  4  7  9 11 10 12  8 12  7  8  2\n",
      " 12  1  8  4 12  6 12  6 12 10  6  2  5 11  1  3  4 10  2  1  7  8  3  7\n",
      "  1  3  1  9 12  3  9  1  1  6  4  3  4 12  8  8 11  7 11  4  3  6 10  1\n",
      " 11  8  6  5  4  4  9  5  8  6 12  2  2  7 10  5  7  7  6  7 11 12 11  1\n",
      "  5 12  1  6  6  9 11  8  5  7  1  2  3 11  9  1  8  2  1  1 12 12  8  3\n",
      " 11 12  9 10  4  4  1 10  9  3  7  2  6  9  7  2  1  4  6 12  5  5  4  8\n",
      "  8  9  1  3  8  1  2  5  6  1 10  4  3  8  5  2  4  8  8 10  2 10  1  6\n",
      "  4  6  7 11  4  5 10  9 11  8  5  5  5  5  4  3 12 10 10  6  3  3  2  6\n",
      "  6  3 10  5 12  2 12  4 12  8  4  1  1  2  3  7  8  7  1  3 11 10 10  4\n",
      "  2  5  7  2 12 10  3 11  9  8 12  8  6  4  1  5 10  1 10  5  5 12  6  2\n",
      " 12  2  6  8  2  7  2  3  6  6 11 11 11  8  5 12  5 12  2  1  4 11  8  9\n",
      "  5  8 11  4  5 10  3  2  7 10  4 10  3 11  9 12 10  3 12 11  4 12  6  2\n",
      "  9  7 12 12  8 10  7  2  7  3 10 10  2 10  7  6  4  3  6  1  1  2  7  3\n",
      "  7 12  6  2 11 10  2  2  3  6  7  2  3 10 12  4 10  5 10 10  6 12  1  1\n",
      "  6  2 11  7  5  7  3 11  4  3 12 10  8  2  9  7  6  5  7  4  4  4  9  7\n",
      "  3  3  7  2  1  8  7  6  8  4  3  7  3  3 10  5  4 11  7  6 10  5  5  5\n",
      "  5  1  4 12  4  6  1  1 10  5  1 10  8  7 12  1 10  8  3  3  9 12  6  5\n",
      " 10  3  2  1 12 10  8  5  9  9  1  6  5  6  2  8 11  3 10  9  9  6  6  3\n",
      "  1  6 10  3  9  1  9  3  4  4  3  2  8  3  8 11  8  1  8  8  8  3  1  9\n",
      " 10  3 10  4  2  4  1  9  3 12  3  1  5  1  7  7  7  4  9  6  7  8  7 10\n",
      " 10  6  4  6  4  3  5  5 10 11  9  3  1  6  3 11 12  8 12  8  5  8  9 11\n",
      "  3 12  5  9 12  9  2  8  8  9  9  6  6  4  4  8  9  9  7  7 10  6  9 11\n",
      "  6  9  2  9 10  2  5 10  6  7 11 12  6  1  6 10  9  3  7 12  7 10 10  7\n",
      "  6  6 11  9  2 11 12  5 11  7  6  8  6  4  1 12  6  3  8  1 11 12  9 11\n",
      "  1  1 10  9  9  5  6  8  9  9  4  1  3  6 12  9  9  9  2  2 10 12  2  1\n",
      "  2  6  6  2  1 11 12  4  1 11  4  8  2  6  2  1 12 11 11 11  3  1  1  4\n",
      "  4  6 12  2  7  6 12 12 10 12  3  2  3  3  4  3  3  7  3  4  9  3  8  6\n",
      " 10  5 11  2  4  9 10  2  3 11  1 12  9 12  5  1  2  3 10  4  5 10  6  4\n",
      "  2  5  2  7 10  2  9 11 10  5  5  5 10  9  2  8  2  1  3  4  2 11  2  4\n",
      " 12 12  3  4  2  7 11  8 11  9  8  5  1  4 12 12 10 11  3 11  5  4  9  9\n",
      " 12  9  3  6  8 12 10 11  5  2  7 12  9  3  1 11 11 12  6  1  9  3  9  8\n",
      " 12 12  2  6  3  3  8  4  2  4  3  5  2  1  6  9  4  7 12 12  4  6  1 10\n",
      "  8  9  7 11  4 10  2 10  2  4  7  3 11  6  6 11]\n"
     ]
    }
   ],
   "source": [
    "# TODO\n",
    "\n",
    "n_lanzamientos = 1000\n",
    "lanzamientos = np.random.randint(1, 13, size=n_lanzamientos)\n",
    "lanzamientos\n",
    "\n",
    "total_sim_7_o_par = np.sum(lanzamientos>=7 | (lanzamientos % 2 == 0))\n",
    "print(f'Probabilidad que la suma de la suma de los 2 dados sea par o mayor a 7: {round(total_sim_7_o_par /n_lanzamientos*100, 2)} %')\n",
    "\n",
    "print(total_sim_7_o_par % n_lanzamientos)\n",
    "\n",
    "print(lanzamientos)\n"
   ]
  },
  {
   "cell_type": "markdown",
   "id": "55732bca",
   "metadata": {},
   "source": [
    "## Ejercicio 2\n",
    "\n",
    "Una caja contiene 10 bolas blancas, 20 bolas rojas y 30 bolas verdes. Si tomamos 5 bolas de la caja reemplazándolas (tomando una bola, anotando el color y luego regresandola a la caja). Queremos saber la probabilidad de:\n",
    "\n",
    "1. Tomar 3 blancas y 2 rojas.\n",
    "2. Toas todas del mismo color.\n",
    "\n",
    "Ejecuta el experimento 1000 veces y calcula las probabilidades que mencionadas."
   ]
  },
  {
   "cell_type": "code",
   "execution_count": null,
   "id": "23244d20",
   "metadata": {},
   "outputs": [
    {
     "name": "stdout",
     "output_type": "stream",
     "text": [
      "{0: 'White', 1: 'White', 2: 'White', 3: 'White', 4: 'White', 5: 'White', 6: 'White', 7: 'White', 8: 'White', 9: 'White', 10: 'Red', 11: 'Red', 12: 'Red', 13: 'Red', 14: 'Red', 15: 'Red', 16: 'Red', 17: 'Red', 18: 'Red', 19: 'Red', 20: 'Red', 21: 'Red', 22: 'Red', 23: 'Red', 24: 'Red', 25: 'Red', 26: 'Red', 27: 'Red', 28: 'Red', 29: 'Red', 30: 'Green', 31: 'Green', 32: 'Green', 33: 'Green', 34: 'Green', 35: 'Green', 36: 'Green', 37: 'Green', 38: 'Green', 39: 'Green', 40: 'Green', 41: 'Green', 42: 'Green', 43: 'Green', 44: 'Green', 45: 'Green', 46: 'Green', 47: 'Green', 48: 'Green', 49: 'Green', 50: 'Green', 51: 'Green', 52: 'Green', 53: 'Green', 54: 'Green', 55: 'Green', 56: 'Green', 57: 'Green', 58: 'Green', 59: 'Green'}\n",
      "Probabilidad de sacar 3 bolas blancas y 2 bolas rojas en 1000 simulaciones: 0.5%\n"
     ]
    }
   ],
   "source": [
    "ball_box = {}\n",
    "\n",
    "# Crea la cajas con las bolas\n",
    "for i in range(60):\n",
    "    if i < 10:\n",
    "        ball_box[i] = \"White\"\n",
    "    elif (i > 9) and (i < 30):\n",
    "        ball_box[i] = \"Red\"\n",
    "    else:\n",
    "        ball_box[i] = \"Green\"\n",
    "\n",
    "print(ball_box)\n",
    "            \n",
    "# TODO\n",
    "bolas = 60 \n",
    "B = 10 \n",
    "R = 20 \n",
    "V = 30 \n",
    "\n",
    "PB = B/bolas\n",
    "PR = R/bolas\n",
    "PV = V/bolas\n",
    "\n",
    "num_exp = 1000\n",
    "# 1 experimento = tomar 5 bolas y reemplazarlas \n",
    "\n",
    "# Tomar 3 blancas y 2 rojas :\n",
    "count_3B_2R = 0\n",
    "\n",
    "for i in range(num_exp):\n",
    "    bolas_extraidas = np.random.choice(['White', 'Red', 'Green'], size=5, p=[PB, PR, PV])\n",
    "\n",
    "    num_B = np.sum(bolas_extraidas == 'White')\n",
    "    num_R = np.sum(bolas_extraidas == 'Red')\n",
    "    \n",
    "\n",
    "    if num_B == 3 and num_R == 2:\n",
    "        count_3B_2R += 1\n",
    "\n",
    "probabilidad_3B2R = count_3B_2R / num_exp\n",
    "\n",
    "print(f\"Probabilidad de sacar 3 bolas blancas y 2 bolas rojas en {num_exp} simulaciones: {round(probabilidad_3B2R * 100, 2)}%\")\n",
    "\n",
    "\n",
    "\n"
   ]
  },
  {
   "cell_type": "code",
   "execution_count": 78,
   "id": "df37e7ed",
   "metadata": {},
   "outputs": [
    {
     "name": "stdout",
     "output_type": "stream",
     "text": [
      "Probabilidad de tomar las 5 del mismo colo en 1000 simulaciones: 5.1%\n"
     ]
    }
   ],
   "source": [
    "# Tomar todas mismo color : \n",
    "\n",
    "count_unicolor = 0 \n",
    "\n",
    "for i in range(num_exp):\n",
    "    bolas_extraidas = np.random.choice(['White', 'Red', 'Green'], size=5, p=[PB, PR, PV])\n",
    "\n",
    "    num_B = np.sum(bolas_extraidas == 'White')\n",
    "    num_R = np.sum(bolas_extraidas == 'Red')\n",
    "    num_V = np.sum(bolas_extraidas == 'Green')\n",
    "    \n",
    "\n",
    "    if num_B == 5 or num_R == 5 or num_V == 5:\n",
    "        count_unicolor += 1\n",
    "\n",
    "proba_unicolor = count_unicolor / num_exp\n",
    "\n",
    "print(f\"Probabilidad de tomar las 5 del mismo colo en {num_exp} simulaciones: {round(proba_unicolor * 100, 2)}%\")\n",
    "\n"
   ]
  }
 ],
 "metadata": {
  "kernelspec": {
   "display_name": "Python 3",
   "language": "python",
   "name": "python3"
  },
  "language_info": {
   "codemirror_mode": {
    "name": "ipython",
    "version": 3
   },
   "file_extension": ".py",
   "mimetype": "text/x-python",
   "name": "python",
   "nbconvert_exporter": "python",
   "pygments_lexer": "ipython3",
   "version": "3.11.4"
  }
 },
 "nbformat": 4,
 "nbformat_minor": 5
}
